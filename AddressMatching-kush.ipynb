{
 "cells": [
  {
   "cell_type": "code",
   "execution_count": 1,
   "metadata": {},
   "outputs": [],
   "source": [
    "import nltk\n",
    "#from nltk.tokenize import wordPunctTokenizer\n",
    "import difflib\n",
    "import pyodbc\n",
    "import pandas as pd\n",
    "import re\n"
   ]
  },
  {
   "cell_type": "code",
   "execution_count": 2,
   "metadata": {},
   "outputs": [],
   "source": [
    "data1=[['flat no. 36,    vishal appartments, kishanghar, vasant kunj','WWW 111'],['house no. 33, haiderpur post sadar jaunpur','BBBB 666'],['fiserv sector 49 ','RG9 3DT']]\n",
    "data2=[['flat no. 36,    vishal appartments, kishanghar, vasant kunj, new delhi &^%$','WWW 111'],['fiserv sector 49 gurugram','RRR 333'],['house no. 33, haiderpur post sadar jaunpur','BBBB 666']]"
   ]
  },
  {
   "cell_type": "code",
   "execution_count": 3,
   "metadata": {},
   "outputs": [],
   "source": [
    "df1=pd.DataFrame(data1,columns=['Address','PostalCode'])\n",
    "df2=pd.DataFrame(data2,columns=['Address','PostalCode'])"
   ]
  },
  {
   "cell_type": "code",
   "execution_count": 4,
   "metadata": {},
   "outputs": [
    {
     "data": {
      "text/html": [
       "<div>\n",
       "<style scoped>\n",
       "    .dataframe tbody tr th:only-of-type {\n",
       "        vertical-align: middle;\n",
       "    }\n",
       "\n",
       "    .dataframe tbody tr th {\n",
       "        vertical-align: top;\n",
       "    }\n",
       "\n",
       "    .dataframe thead th {\n",
       "        text-align: right;\n",
       "    }\n",
       "</style>\n",
       "<table border=\"1\" class=\"dataframe\">\n",
       "  <thead>\n",
       "    <tr style=\"text-align: right;\">\n",
       "      <th></th>\n",
       "      <th>Address</th>\n",
       "      <th>PostalCode</th>\n",
       "    </tr>\n",
       "  </thead>\n",
       "  <tbody>\n",
       "    <tr>\n",
       "      <th>0</th>\n",
       "      <td>flat no. 36,    vishal appartments, kishanghar...</td>\n",
       "      <td>WWW 111</td>\n",
       "    </tr>\n",
       "    <tr>\n",
       "      <th>1</th>\n",
       "      <td>house no. 33, haiderpur post sadar jaunpur</td>\n",
       "      <td>BBBB 666</td>\n",
       "    </tr>\n",
       "    <tr>\n",
       "      <th>2</th>\n",
       "      <td>fiserv sector 49</td>\n",
       "      <td>RG9 3DT</td>\n",
       "    </tr>\n",
       "  </tbody>\n",
       "</table>\n",
       "</div>"
      ],
      "text/plain": [
       "                                             Address PostalCode\n",
       "0  flat no. 36,    vishal appartments, kishanghar...    WWW 111\n",
       "1         house no. 33, haiderpur post sadar jaunpur   BBBB 666\n",
       "2                                  fiserv sector 49     RG9 3DT"
      ]
     },
     "execution_count": 4,
     "metadata": {},
     "output_type": "execute_result"
    }
   ],
   "source": [
    "df1"
   ]
  },
  {
   "cell_type": "code",
   "execution_count": 5,
   "metadata": {},
   "outputs": [],
   "source": [
    "#pip install textdistance\n",
    "import textdistance"
   ]
  },
  {
   "cell_type": "code",
   "execution_count": 6,
   "metadata": {},
   "outputs": [
    {
     "data": {
      "text/plain": [
       "0.8805970149253731"
      ]
     },
     "execution_count": 6,
     "metadata": {},
     "output_type": "execute_result"
    }
   ],
   "source": [
    "#Jaccard index\n",
    "textdistance.ratcliff_obershelp(df1['Address'][0], df2['Address'][0])"
   ]
  },
  {
   "cell_type": "code",
   "execution_count": 7,
   "metadata": {},
   "outputs": [],
   "source": [
    "from nltk.corpus import stopwords\n",
    "import string\n",
    "import nltk"
   ]
  },
  {
   "cell_type": "code",
   "execution_count": 8,
   "metadata": {},
   "outputs": [],
   "source": [
    "#nltk.download_shell()"
   ]
  },
  {
   "cell_type": "code",
   "execution_count": 9,
   "metadata": {},
   "outputs": [],
   "source": [
    "def text_process(mess):\n",
    "\n",
    "    # Check characters to see if they are in punctuation\n",
    "    nopunc = [char for char in mess if char not in string.punctuation]\n",
    "\n",
    "    # Join the characters again to form the string.\n",
    "    nopunc = ''.join(nopunc)\n",
    "    \n",
    "    abc=[word for word in nopunc.split() if word.lower() not in stopwords.words('english')]\n",
    "    \n",
    "    abc = ' '.join(abc)\n",
    "    # Now just remove any stopwords\n",
    "    return abc"
   ]
  },
  {
   "cell_type": "code",
   "execution_count": 10,
   "metadata": {},
   "outputs": [
    {
     "data": {
      "text/html": [
       "<div>\n",
       "<style scoped>\n",
       "    .dataframe tbody tr th:only-of-type {\n",
       "        vertical-align: middle;\n",
       "    }\n",
       "\n",
       "    .dataframe tbody tr th {\n",
       "        vertical-align: top;\n",
       "    }\n",
       "\n",
       "    .dataframe thead th {\n",
       "        text-align: right;\n",
       "    }\n",
       "</style>\n",
       "<table border=\"1\" class=\"dataframe\">\n",
       "  <thead>\n",
       "    <tr style=\"text-align: right;\">\n",
       "      <th></th>\n",
       "      <th>Address</th>\n",
       "      <th>PostalCode</th>\n",
       "    </tr>\n",
       "  </thead>\n",
       "  <tbody>\n",
       "    <tr>\n",
       "      <th>0</th>\n",
       "      <td>flat 36 vishal appartments kishanghar vasant kunj</td>\n",
       "      <td>WWW 111</td>\n",
       "    </tr>\n",
       "    <tr>\n",
       "      <th>1</th>\n",
       "      <td>house 33 haiderpur post sadar jaunpur</td>\n",
       "      <td>BBBB 666</td>\n",
       "    </tr>\n",
       "    <tr>\n",
       "      <th>2</th>\n",
       "      <td>fiserv sector 49</td>\n",
       "      <td>RG9 3DT</td>\n",
       "    </tr>\n",
       "  </tbody>\n",
       "</table>\n",
       "</div>"
      ],
      "text/plain": [
       "                                             Address PostalCode\n",
       "0  flat 36 vishal appartments kishanghar vasant kunj    WWW 111\n",
       "1              house 33 haiderpur post sadar jaunpur   BBBB 666\n",
       "2                                   fiserv sector 49    RG9 3DT"
      ]
     },
     "execution_count": 10,
     "metadata": {},
     "output_type": "execute_result"
    }
   ],
   "source": [
    "df1['Address']=df1['Address'].apply(text_process)\n",
    "df1"
   ]
  },
  {
   "cell_type": "code",
   "execution_count": 11,
   "metadata": {},
   "outputs": [
    {
     "data": {
      "text/html": [
       "<div>\n",
       "<style scoped>\n",
       "    .dataframe tbody tr th:only-of-type {\n",
       "        vertical-align: middle;\n",
       "    }\n",
       "\n",
       "    .dataframe tbody tr th {\n",
       "        vertical-align: top;\n",
       "    }\n",
       "\n",
       "    .dataframe thead th {\n",
       "        text-align: right;\n",
       "    }\n",
       "</style>\n",
       "<table border=\"1\" class=\"dataframe\">\n",
       "  <thead>\n",
       "    <tr style=\"text-align: right;\">\n",
       "      <th></th>\n",
       "      <th>Address</th>\n",
       "      <th>PostalCode</th>\n",
       "    </tr>\n",
       "  </thead>\n",
       "  <tbody>\n",
       "    <tr>\n",
       "      <th>0</th>\n",
       "      <td>flat 36 vishal appartments kishanghar vasant k...</td>\n",
       "      <td>WWW 111</td>\n",
       "    </tr>\n",
       "    <tr>\n",
       "      <th>1</th>\n",
       "      <td>fiserv sector 49 gurugram</td>\n",
       "      <td>RRR 333</td>\n",
       "    </tr>\n",
       "    <tr>\n",
       "      <th>2</th>\n",
       "      <td>house 33 haiderpur post sadar jaunpur</td>\n",
       "      <td>BBBB 666</td>\n",
       "    </tr>\n",
       "  </tbody>\n",
       "</table>\n",
       "</div>"
      ],
      "text/plain": [
       "                                             Address PostalCode\n",
       "0  flat 36 vishal appartments kishanghar vasant k...    WWW 111\n",
       "1                          fiserv sector 49 gurugram    RRR 333\n",
       "2              house 33 haiderpur post sadar jaunpur   BBBB 666"
      ]
     },
     "execution_count": 11,
     "metadata": {},
     "output_type": "execute_result"
    }
   ],
   "source": [
    "df2['Address']=df2['Address'].apply(text_process)\n",
    "df2"
   ]
  },
  {
   "cell_type": "code",
   "execution_count": 12,
   "metadata": {},
   "outputs": [],
   "source": [
    "#pip install textdistance\n",
    "import textdistance"
   ]
  },
  {
   "cell_type": "code",
   "execution_count": 13,
   "metadata": {},
   "outputs": [
    {
     "data": {
      "text/plain": [
       "0.9074074074074074"
      ]
     },
     "execution_count": 13,
     "metadata": {},
     "output_type": "execute_result"
    }
   ],
   "source": [
    "#Jaccard index\n",
    "textdistance.ratcliff_obershelp(df1['Address'][0], df2['Address'][0])"
   ]
  },
  {
   "cell_type": "code",
   "execution_count": 14,
   "metadata": {},
   "outputs": [
    {
     "data": {
      "text/plain": [
       "'flat 36 vishal appartments kishanghar vasant kunj'"
      ]
     },
     "execution_count": 14,
     "metadata": {},
     "output_type": "execute_result"
    }
   ],
   "source": [
    "df1['Address'][0]"
   ]
  },
  {
   "cell_type": "code",
   "execution_count": 41,
   "metadata": {},
   "outputs": [],
   "source": [
    "x1=[]\n",
    "Base_Name=[]\n",
    "CompleteMatchTargetName=[]\n",
    "PartialMatch=[]\n",
    "df=pd.DataFrame()\n",
    "for i in range(len(df1['Address'])):\n",
    "    for j in range(len(df2['Address'])):\n",
    "        x=textdistance.ratcliff_obershelp(df1['Address'][i], df2['Address'][j])\n",
    "        if x==1:\n",
    "            Base_Name.append(df1['Address'][i])\n",
    "            CompleteMatchTargetName.append(df2['Address'][j])\n",
    "            PartialMatch.append('')\n",
    "            x1.append(x)\n",
    "        elif x > .6:\n",
    "            Base_Name.append(df1['Address'][i])\n",
    "            PartialMatch.append(df2['Address'][j])\n",
    "            CompleteMatchTargetName.append('')\n",
    "            x1.append(x)\n",
    "df['Base_Name']=Base_Name\n",
    "df['matchpct']=x1\n",
    "df['CompleteMatchTargetName']=CompleteMatchTargetName\n",
    "df['PartialMatch']=PartialMatch"
   ]
  },
  {
   "cell_type": "code",
   "execution_count": 42,
   "metadata": {},
   "outputs": [
    {
     "data": {
      "text/html": [
       "<div>\n",
       "<style scoped>\n",
       "    .dataframe tbody tr th:only-of-type {\n",
       "        vertical-align: middle;\n",
       "    }\n",
       "\n",
       "    .dataframe tbody tr th {\n",
       "        vertical-align: top;\n",
       "    }\n",
       "\n",
       "    .dataframe thead th {\n",
       "        text-align: right;\n",
       "    }\n",
       "</style>\n",
       "<table border=\"1\" class=\"dataframe\">\n",
       "  <thead>\n",
       "    <tr style=\"text-align: right;\">\n",
       "      <th></th>\n",
       "      <th>Base_Name</th>\n",
       "      <th>matchpct</th>\n",
       "      <th>CompleteMatchTargetName</th>\n",
       "      <th>PartialMatch</th>\n",
       "    </tr>\n",
       "  </thead>\n",
       "  <tbody>\n",
       "    <tr>\n",
       "      <th>0</th>\n",
       "      <td>flat 36 vishal appartments kishanghar vasant kunj</td>\n",
       "      <td>0.907407</td>\n",
       "      <td></td>\n",
       "      <td>flat 36 vishal appartments kishanghar vasant k...</td>\n",
       "    </tr>\n",
       "    <tr>\n",
       "      <th>1</th>\n",
       "      <td>house 33 haiderpur post sadar jaunpur</td>\n",
       "      <td>1.000000</td>\n",
       "      <td>house 33 haiderpur post sadar jaunpur</td>\n",
       "      <td></td>\n",
       "    </tr>\n",
       "    <tr>\n",
       "      <th>2</th>\n",
       "      <td>fiserv sector 49</td>\n",
       "      <td>0.780488</td>\n",
       "      <td></td>\n",
       "      <td>fiserv sector 49 gurugram</td>\n",
       "    </tr>\n",
       "  </tbody>\n",
       "</table>\n",
       "</div>"
      ],
      "text/plain": [
       "                                           Base_Name  matchpct  \\\n",
       "0  flat 36 vishal appartments kishanghar vasant kunj  0.907407   \n",
       "1              house 33 haiderpur post sadar jaunpur  1.000000   \n",
       "2                                   fiserv sector 49  0.780488   \n",
       "\n",
       "                 CompleteMatchTargetName  \\\n",
       "0                                          \n",
       "1  house 33 haiderpur post sadar jaunpur   \n",
       "2                                          \n",
       "\n",
       "                                        PartialMatch  \n",
       "0  flat 36 vishal appartments kishanghar vasant k...  \n",
       "1                                                     \n",
       "2                          fiserv sector 49 gurugram  "
      ]
     },
     "execution_count": 42,
     "metadata": {},
     "output_type": "execute_result"
    }
   ],
   "source": [
    "df"
   ]
  },
  {
   "cell_type": "code",
   "execution_count": 44,
   "metadata": {},
   "outputs": [],
   "source": [
    "    writer =pd.ExcelWriter('outputGeneric.xlsx', engine ='xlsxwriter')\n",
    "    df.to_excel(writer, sheet_name='Sheet1')\n",
    "    writer.save()"
   ]
  },
  {
   "cell_type": "code",
   "execution_count": null,
   "metadata": {},
   "outputs": [],
   "source": []
  }
 ],
 "metadata": {
  "kernelspec": {
   "display_name": "Python 3",
   "language": "python",
   "name": "python3"
  },
  "language_info": {
   "codemirror_mode": {
    "name": "ipython",
    "version": 3
   },
   "file_extension": ".py",
   "mimetype": "text/x-python",
   "name": "python",
   "nbconvert_exporter": "python",
   "pygments_lexer": "ipython3",
   "version": "3.7.6"
  }
 },
 "nbformat": 4,
 "nbformat_minor": 4
}
